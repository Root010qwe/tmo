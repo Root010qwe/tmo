{
 "cells": [
  {
   "cell_type": "markdown",
   "id": "bf0335d1",
   "metadata": {},
   "source": [
    "# Гонов М.И. ИУ5-65Б \n",
    "# Вариант №4"
   ]
  },
  {
   "cell_type": "markdown",
   "id": "8540c5d5",
   "metadata": {},
   "source": [
    "# РК 2. Методы построения моделей машинного обучения\n",
    "\n",
    "**Набор данных:** `toy_dataset.csv`  \n",
    "**Задача:** бинарная классификация (`Illness`)  \n",
    "**Методы:** 1) Логистическая регрессия, 2) Градиентный бустинг  \n",
    "**Метрики качества:** Accuracy и ROC AUC (почему — см. ниже)\n"
   ]
  },
  {
   "cell_type": "code",
   "execution_count": 66,
   "id": "68316a6e",
   "metadata": {},
   "outputs": [
    {
     "name": "stdout",
     "output_type": "stream",
     "text": [
      "Рабочая директория: C:\\Users\\marat\\OneDrive\\Рабочий стол\\BM6\\Технологии машинного обучения\n",
      "Файлы: ['.ipynb_checkpoints', '.venv', 'lab3 (5).ipynb', 'lab4.ipynb', 'lab5.ipynb', 'lr 3', 'lr1', 'lr2', 'rk2.ipynb', 'tmo', 'toy_dataset.csv', 'wind_dataset.csv', 'Гонов ИУ5-65Б.ipynb.ipynb']\n",
      "Размер данных: (150000, 6)\n"
     ]
    },
    {
     "data": {
      "text/html": [
       "<div>\n",
       "<style scoped>\n",
       "    .dataframe tbody tr th:only-of-type {\n",
       "        vertical-align: middle;\n",
       "    }\n",
       "\n",
       "    .dataframe tbody tr th {\n",
       "        vertical-align: top;\n",
       "    }\n",
       "\n",
       "    .dataframe thead th {\n",
       "        text-align: right;\n",
       "    }\n",
       "</style>\n",
       "<table border=\"1\" class=\"dataframe\">\n",
       "  <thead>\n",
       "    <tr style=\"text-align: right;\">\n",
       "      <th></th>\n",
       "      <th>Number</th>\n",
       "      <th>City</th>\n",
       "      <th>Gender</th>\n",
       "      <th>Age</th>\n",
       "      <th>Income</th>\n",
       "      <th>Illness</th>\n",
       "    </tr>\n",
       "  </thead>\n",
       "  <tbody>\n",
       "    <tr>\n",
       "      <th>0</th>\n",
       "      <td>1</td>\n",
       "      <td>Dallas</td>\n",
       "      <td>Male</td>\n",
       "      <td>41</td>\n",
       "      <td>40367.0</td>\n",
       "      <td>No</td>\n",
       "    </tr>\n",
       "    <tr>\n",
       "      <th>1</th>\n",
       "      <td>2</td>\n",
       "      <td>Dallas</td>\n",
       "      <td>Male</td>\n",
       "      <td>54</td>\n",
       "      <td>45084.0</td>\n",
       "      <td>No</td>\n",
       "    </tr>\n",
       "    <tr>\n",
       "      <th>2</th>\n",
       "      <td>3</td>\n",
       "      <td>Dallas</td>\n",
       "      <td>Male</td>\n",
       "      <td>42</td>\n",
       "      <td>52483.0</td>\n",
       "      <td>No</td>\n",
       "    </tr>\n",
       "    <tr>\n",
       "      <th>3</th>\n",
       "      <td>4</td>\n",
       "      <td>Dallas</td>\n",
       "      <td>Male</td>\n",
       "      <td>40</td>\n",
       "      <td>40941.0</td>\n",
       "      <td>No</td>\n",
       "    </tr>\n",
       "    <tr>\n",
       "      <th>4</th>\n",
       "      <td>5</td>\n",
       "      <td>Dallas</td>\n",
       "      <td>Male</td>\n",
       "      <td>46</td>\n",
       "      <td>50289.0</td>\n",
       "      <td>No</td>\n",
       "    </tr>\n",
       "  </tbody>\n",
       "</table>\n",
       "</div>"
      ],
      "text/plain": [
       "   Number    City Gender  Age   Income Illness\n",
       "0       1  Dallas   Male   41  40367.0      No\n",
       "1       2  Dallas   Male   54  45084.0      No\n",
       "2       3  Dallas   Male   42  52483.0      No\n",
       "3       4  Dallas   Male   40  40941.0      No\n",
       "4       5  Dallas   Male   46  50289.0      No"
      ]
     },
     "execution_count": 66,
     "metadata": {},
     "output_type": "execute_result"
    }
   ],
   "source": [
    "# 1. Импорт библиотек и загрузка данных\n",
    "import os\n",
    "print(\"Рабочая директория:\", os.getcwd())\n",
    "print(\"Файлы:\", os.listdir())\n",
    "\n",
    "import pandas as pd\n",
    "df = pd.read_csv('toy_dataset.csv')\n",
    "print(\"Размер данных:\", df.shape)\n",
    "df.head()\n"
   ]
  },
  {
   "cell_type": "markdown",
   "id": "ccda69a5",
   "metadata": {},
   "source": [
    "## 2. Предобработка данных\n",
    "\n",
    "1. Удаляем ID-столбец `Number`.  \n",
    "2. Кодируем целевую переменную (`Illness`) как 0/1.  \n",
    "3. One-hot кодируем категориальные признаки (`City`, `Gender`).  \n",
    "4. Стандартизируем числовые признаки (`Age`, `Income`).\n"
   ]
  },
  {
   "cell_type": "code",
   "execution_count": 67,
   "id": "f43b3324",
   "metadata": {},
   "outputs": [
    {
     "name": "stdout",
     "output_type": "stream",
     "text": [
      "Признаки: ['Age', 'Income', 'City_Boston', 'City_Dallas', 'City_Los Angeles', 'City_Mountain View', 'City_New York City', 'City_San Diego', 'City_Washington D.C.', 'Gender_Male']\n"
     ]
    }
   ],
   "source": [
    "from sklearn.preprocessing import LabelEncoder, StandardScaler\n",
    "\n",
    "# 2.1. Убираем идентификатор\n",
    "df = df.drop(columns=['Number'])\n",
    "\n",
    "# 2.2. LabelEncoding для целевой\n",
    "le = LabelEncoder()\n",
    "df['Illness'] = le.fit_transform(df['Illness'])\n",
    "\n",
    "# 2.3. One-hot для категорий\n",
    "df = pd.get_dummies(df, columns=['City','Gender'], drop_first=True)\n",
    "\n",
    "# 2.4. Стандартизация числовых признаков\n",
    "num_cols = ['Age','Income']\n",
    "scaler = StandardScaler()\n",
    "df[num_cols] = scaler.fit_transform(df[num_cols])\n",
    "\n",
    "# Разбиваем X и y\n",
    "X = df.drop('Illness', axis=1)\n",
    "y = df['Illness']\n",
    "\n",
    "print(\"Признаки:\", X.columns.tolist())\n"
   ]
  },
  {
   "cell_type": "markdown",
   "id": "c55caf8a",
   "metadata": {},
   "source": [
    "## 3. Разбиение на обучающую и тестовую выборки\n",
    "\n",
    "Используем `train_test_split` (30% для теста), фиксируем `random_state` для воспроизводимости.\n"
   ]
  },
  {
   "cell_type": "code",
   "execution_count": 68,
   "id": "6dad6427",
   "metadata": {},
   "outputs": [
    {
     "name": "stdout",
     "output_type": "stream",
     "text": [
      "Train: (105000, 10) Test: (45000, 10)\n"
     ]
    }
   ],
   "source": [
    "from sklearn.model_selection import train_test_split\n",
    "\n",
    "X_train, X_test, y_train, y_test = train_test_split(\n",
    "    X, y, test_size=0.3, random_state=42, stratify=y\n",
    ")\n",
    "print(\"Train:\", X_train.shape, \"Test:\", X_test.shape)\n"
   ]
  },
  {
   "cell_type": "markdown",
   "id": "6d32d0de",
   "metadata": {},
   "source": [
    "## 4. Метод 1: Логистическая регрессия\n",
    "\n",
    "Логрег — базовый линейный классификатор, хорошо интерпретируется и быстро обучается.\n"
   ]
  },
  {
   "cell_type": "code",
   "execution_count": 71,
   "id": "e16bd0e6",
   "metadata": {},
   "outputs": [
    {
     "name": "stdout",
     "output_type": "stream",
     "text": [
      "Balanced LogReg  Accuracy = 0.531\n",
      "Balanced LogReg  ROC AUC   = 0.494\n",
      "\n",
      "Classification Report (balanced):\n",
      "              precision    recall  f1-score   support\n",
      "\n",
      "           0       0.92      0.54      0.68     41358\n",
      "           1       0.08      0.45      0.14      3642\n",
      "\n",
      "    accuracy                           0.53     45000\n",
      "   macro avg       0.50      0.50      0.41     45000\n",
      "weighted avg       0.85      0.53      0.63     45000\n",
      "\n"
     ]
    }
   ],
   "source": [
    "from sklearn.linear_model import LogisticRegression\n",
    "from sklearn.metrics import accuracy_score, roc_auc_score, classification_report\n",
    "\n",
    "# Логрег с балансировкой весов классов\n",
    "lr_bal = LogisticRegression(\n",
    "    max_iter=1000,\n",
    "    class_weight='balanced',   # учёт дисбаланса\n",
    "    random_state=42\n",
    ")\n",
    "lr_bal.fit(X_train, y_train)\n",
    "\n",
    "# Предсказания\n",
    "y_pred_bal = lr_bal.predict(X_test)\n",
    "y_proba_bal = lr_bal.predict_proba(X_test)[:,1]\n",
    "\n",
    "# Метрики\n",
    "acc_bal = accuracy_score(y_test, y_pred_bal)\n",
    "auc_bal = roc_auc_score(y_test, y_proba_bal)\n",
    "\n",
    "print(f\"Balanced LogReg  Accuracy = {acc_bal:.3f}\")\n",
    "print(f\"Balanced LogReg  ROC AUC   = {auc_bal:.3f}\\n\")\n",
    "print(\"Classification Report (balanced):\")\n",
    "print(classification_report(\n",
    "    y_test, y_pred_bal, zero_division=0\n",
    "))\n"
   ]
  },
  {
   "cell_type": "markdown",
   "id": "af62e317",
   "metadata": {},
   "source": [
    "## 5. Метод 2: Градиентный бустинг\n",
    "\n",
    "Деревья в ансамбле, обычно дают более высокое качество на неглубоких табличных данных.\n"
   ]
  },
  {
   "cell_type": "code",
   "execution_count": 70,
   "id": "ceee9774",
   "metadata": {},
   "outputs": [
    {
     "name": "stdout",
     "output_type": "stream",
     "text": [
      "GradBoost Accuracy = 0.919\n",
      "GradBoost ROC AUC  = 0.501\n",
      "\n",
      "Classification Report (GradBoost):\n",
      "              precision    recall  f1-score   support\n",
      "\n",
      "           0       0.92      1.00      0.96     41358\n",
      "           1       0.33      0.00      0.00      3642\n",
      "\n",
      "    accuracy                           0.92     45000\n",
      "   macro avg       0.63      0.50      0.48     45000\n",
      "weighted avg       0.87      0.92      0.88     45000\n",
      "\n"
     ]
    }
   ],
   "source": [
    "from sklearn.ensemble import GradientBoostingClassifier\n",
    "\n",
    "# Обучение\n",
    "gb = GradientBoostingClassifier(random_state=42)\n",
    "gb.fit(X_train, y_train)\n",
    "\n",
    "# Предсказания\n",
    "y_pred_gb = gb.predict(X_test)\n",
    "y_proba_gb = gb.predict_proba(X_test)[:,1]\n",
    "\n",
    "# Метрики\n",
    "acc_gb = accuracy_score(y_test, y_pred_gb)\n",
    "auc_gb = roc_auc_score(y_test, y_proba_gb)\n",
    "\n",
    "print(f\"GradBoost Accuracy = {acc_gb:.3f}\")\n",
    "print(f\"GradBoost ROC AUC  = {auc_gb:.3f}\\n\")\n",
    "print(\"Classification Report (GradBoost):\")\n",
    "print(classification_report(y_test, y_pred_gb))\n"
   ]
  },
  {
   "cell_type": "markdown",
   "id": "2dc74bf7",
   "metadata": {},
   "source": [
    "## 6. Сравнение моделей и выводы\n",
    "\n",
    "| Модель               | Accuracy | ROC AUC |\n",
    "|----------------------|---------:|--------:|\n",
    "| Логистическая регрессия |  …       |    …    |\n",
    "| Градиентный бустинг     |  …       |    …    |\n",
    "\n",
    "**Почему метрики?**  \n",
    "- **Accuracy** — простая и понятная доля правильных ответов, но не учитывает баланс классов.  \n",
    "- **ROC AUC** — показывает качество ранжирования и нечувствительна к порогу отсечения, отражает способность модели различать классы.\n",
    "\n",
    "**Выводы:**  \n",
    "- Если ROC AUC и Accuracy у градиентного бустинга существенно выше, выбираем его для финального решения.  \n",
    "- Если модели близки — можно дополнительно смотреть на Precision–Recall, скорость обучения и интерпретируемость (логрег гораздо проще объяснить бизнес-стейкхолдерам).\n"
   ]
  },
  {
   "cell_type": "markdown",
   "id": "96f896b2",
   "metadata": {},
   "source": []
  }
 ],
 "metadata": {
  "language_info": {
   "name": "python"
  }
 },
 "nbformat": 4,
 "nbformat_minor": 5
}
